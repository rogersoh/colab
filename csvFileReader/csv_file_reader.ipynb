{
 "cells": [
  {
   "cell_type": "markdown",
   "id": "db514cbd",
   "metadata": {},
   "source": [
    "Read CSV file based on config requirement \n",
    "1. read json configuration file into configurationDF DataFrame\n",
    "2. clean the configurationDF DataFrame\n",
    "3. read csv file\n",
    "4. check and flag error in error_df Dataframe and save to error_message in excel format\n",
    "5. if no error:\n",
    "    clean the csv files\n",
    "    output file in JSON format"
   ]
  },
  {
   "cell_type": "code",
   "execution_count": 1,
   "id": "335f10fc",
   "metadata": {},
   "outputs": [],
   "source": [
    "import json\n",
    "from csv_import_lib import csvFileReader"
   ]
  },
  {
   "cell_type": "markdown",
   "id": "61783983",
   "metadata": {},
   "source": [
    "### Set files"
   ]
  },
  {
   "cell_type": "code",
   "execution_count": 2,
   "id": "3bd7acba",
   "metadata": {},
   "outputs": [],
   "source": [
    "cfgFile = \"fileconfig4_sample_data.json\"\n",
    "recFile = \"sample_data.csv\"\n",
    "baseUnitFile = \"baseunits.json\""
   ]
  },
  {
   "cell_type": "markdown",
   "id": "e5a4cfd1",
   "metadata": {},
   "source": [
    "### API call and assign result"
   ]
  },
  {
   "cell_type": "code",
   "execution_count": 3,
   "id": "f0803c91",
   "metadata": {},
   "outputs": [],
   "source": [
    "csvFileReaderData = csvFileReader(baseUnitFile, cfgFile, recFile)\n",
    "configurationFileErrorDF = csvFileReaderData[\"configFileError\"]\n",
    "baseUnitFileErrorDF = csvFileReaderData[\"baseUnitFileError\"]\n",
    "recordFileErrorMessageDF = csvFileReaderData[\"recordFileError\"]\n",
    "recordOutputList = csvFileReaderData[\"recordOutput\"] #record output in List format"
   ]
  },
  {
   "cell_type": "markdown",
   "id": "f035bce2",
   "metadata": {},
   "source": [
    "### save error message in CSV file and record output in JSON file"
   ]
  },
  {
   "cell_type": "code",
   "execution_count": 4,
   "id": "dc8c49c1",
   "metadata": {},
   "outputs": [],
   "source": [
    "# save error message in csv file\n",
    "if configurationFileErrorDF.shape[0] > 0:\n",
    "  configurationFileErrorDF.to_csv(cfgFile.split(\".\")[0] + \"_cfg_err_msg.csv\", index = False)\n",
    "if baseUnitFileErrorDF.shape[0] > 0:\n",
    "  baseUnitFileErrorDF.to_csv(baseUnitFile.split(\".\")[0] + \"_err_msg.csv\", index = False)\n",
    "if recordFileErrorMessageDF.shape[0] > 0:\n",
    "  recordFileErrorMessageDF.to_csv(recFile.split(\".\")[0] + \"_err_msg.csv\", index = False)\n",
    "# save record output (those records that have no error) in JSON format\n",
    "if len(recordOutputList) > 0:\n",
    "  recordOutputJSON = json.dumps(recordOutputList)\n",
    "  with open(recFile.split(\".\")[0] + \"_output.json\", \"w+\") as f:\n",
    "    f.write(recordOutputJSON)"
   ]
  },
  {
   "cell_type": "code",
   "execution_count": null,
   "id": "5c54b7f3",
   "metadata": {},
   "outputs": [],
   "source": []
  }
 ],
 "metadata": {
  "kernelspec": {
   "display_name": "Python 3 (ipykernel)",
   "language": "python",
   "name": "python3"
  },
  "language_info": {
   "codemirror_mode": {
    "name": "ipython",
    "version": 3
   },
   "file_extension": ".py",
   "mimetype": "text/x-python",
   "name": "python",
   "nbconvert_exporter": "python",
   "pygments_lexer": "ipython3",
   "version": "3.11.4"
  }
 },
 "nbformat": 4,
 "nbformat_minor": 5
}
